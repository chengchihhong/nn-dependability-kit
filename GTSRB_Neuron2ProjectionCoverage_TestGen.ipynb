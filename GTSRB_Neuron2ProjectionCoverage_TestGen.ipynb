{
 "cells": [
  {
   "cell_type": "markdown",
   "metadata": {},
   "source": [
    "# Neuron 2-projection on-off activation coverage (2) - German Traffic Sign Recognition Benchmark (GTSRB)\n",
    "\n"
   ]
  },
  {
   "cell_type": "code",
   "execution_count": 1,
   "metadata": {},
   "outputs": [],
   "source": [
    "# Put these at the top of every notebook, to get automatic reloading and inline plotting\n",
    "%reload_ext autoreload\n",
    "%autoreload 2\n",
    "%matplotlib inline"
   ]
  },
  {
   "cell_type": "code",
   "execution_count": 2,
   "metadata": {},
   "outputs": [],
   "source": [
    "import numpy.random\n",
    "# Fix the number for repeatability (we have also stored the trained model)\n",
    "numpy.random.seed(42)\n",
    "\n",
    "import torch\n",
    "import torch.nn as nn\n",
    "import torchvision\n",
    "import torchvision.transforms as transforms\n",
    "\n",
    "\n",
    "# Device configuration\n",
    "device = torch.device('cuda' if torch.cuda.is_available() else 'cpu')"
   ]
  },
  {
   "cell_type": "markdown",
   "metadata": {},
   "source": [
    "Start by accessing the root folder where internally, subfolders are images with folder name being their classified result.\n",
    "\n",
    "The dataset should be available at the following site \n",
    "http://benchmark.ini.rub.de/?section=gtsrb&subsection=dataset\n",
    "\n",
    "Here we just pick the 26K smaller training set (the online version), as the training and test set can all be directly loaded using PyTorch included functionalities. "
   ]
  },
  {
   "cell_type": "code",
   "execution_count": 3,
   "metadata": {},
   "outputs": [],
   "source": [
    "from torchvision.datasets import ImageFolder\n",
    "from torchvision.transforms import ToTensor\n",
    "\n",
    "standard_transform = transforms.Compose([\n",
    "        transforms.ToTensor(),\n",
    "        # Change the image to PIL format, such that resize can be done\n",
    "        transforms.ToPILImage(),\n",
    "        transforms.Resize((32,32)),\n",
    "        # Bring it back to tensor\n",
    "        transforms.ToTensor()\n",
    "    ])\n",
    "\n",
    "# Here the data is not be normalized to [-1,1]\n",
    "\n",
    "# Change the folder based on your specific needs. \n",
    "# This one is a smaller (26640 examples) data set (for online training), so the \n",
    "data = ImageFolder(root='data/GTSRB-Training_fixed/GTSRB/Training',  transform=standard_transform)\n"
   ]
  },
  {
   "cell_type": "code",
   "execution_count": 4,
   "metadata": {
    "scrolled": true
   },
   "outputs": [
    {
     "name": "stdout",
     "output_type": "stream",
     "text": [
      "['00000', '00001', '00002', '00003', '00004', '00005', '00006', '00007', '00008', '00009', '00010', '00011', '00012', '00013', '00014', '00015', '00016', '00017', '00018', '00019', '00020', '00021', '00022', '00023', '00024', '00025', '00026', '00027', '00028', '00029', '00030', '00031', '00032', '00033', '00034', '00035', '00036', '00037', '00038', '00039', '00040', '00041', '00042']\n"
     ]
    }
   ],
   "source": [
    "print(data.classes)"
   ]
  },
  {
   "cell_type": "markdown",
   "metadata": {},
   "source": [
    "- 0 \t Speed limit (20km/h)\n",
    "- 1 \t Speed limit (30km/h)\n",
    "- 2 \t Speed limit (50km/h)\n",
    "- 3 \t Speed limit (60km/h)\n",
    "- 4 \t Speed limit (70km/h)\n",
    "- 5 \t Speed limit (80km/h)\n",
    "- 6 \t End of speed limit (80km/h)\n",
    "- 7 \t Speed limit (100km/h)\n",
    "- 8 \t Speed limit (120km/h)\n",
    "- 9 \t No passing\n",
    "- 10 \t No passing for vechiles over 3.5 metric tons\n",
    "- 11 \t Right-of-way at the next intersection\n",
    "- 12 \t Priority road\n",
    "- 13 \t Yield\n",
    "- 14 \t Stop\n",
    "- 15 \t No vechiles\n",
    "- 16 \t Vechiles over 3.5 metric tons prohibited\n",
    "- 17 \t No entry\n",
    "- 18 \t General caution\n",
    "- 19 \t Dangerous curve to the left\n",
    "- 20 \t Dangerous curve to the right\n",
    "- 21 Double curve\n",
    "- 22 \t Bumpy road\n",
    "- 23 \t Slippery road\n",
    "- 24 \t Road narrows on the right\n",
    "- 25 \t Road work\n",
    "- 26 \t Traffic signals\n",
    "- 27 \t Pedestrians\n",
    "- 28 \t Children crossing\n",
    "- 29 \t Bicycles crossing\n",
    "- 30 \t Beware of ice/snow\n",
    "- 31 \t Wild animals crossing\n",
    "- 32 \t End of all speed and passing limits\n",
    "- 33 \t Turn right ahead\n",
    "- 34 \t Turn left ahead\n",
    "- 35 \t Ahead only\n",
    "- 36 \t Go straight or right\n",
    "- 37 \t Go straight or left\n",
    "- 38 \t Keep right\n",
    "- 39 \t Keep left\n",
    "- 40 \t Roundabout mandatory\n",
    "- 41 \t End of no passing\n",
    "- 42 \t End of no passing by vechiles over 3.5 metric tons\n",
    "\n"
   ]
  },
  {
   "cell_type": "code",
   "execution_count": 5,
   "metadata": {},
   "outputs": [],
   "source": [
    "# Hyper-parameters \n",
    "num_classes = 43\n",
    "learning_rate = 0.001\n",
    "sizeOfNeuronsToMonitor = 84\n",
    "batch_size = 64\n",
    "num_epochs = 5"
   ]
  },
  {
   "cell_type": "code",
   "execution_count": 6,
   "metadata": {},
   "outputs": [],
   "source": [
    "from torch.utils.data import DataLoader\n",
    "\n",
    "loader = DataLoader(data, batch_size=batch_size, shuffle=True)"
   ]
  },
  {
   "cell_type": "code",
   "execution_count": 7,
   "metadata": {},
   "outputs": [
    {
     "data": {
      "image/png": "[encoded data removed]",
      "text/plain": [
       "<Figure size 144x144 with 1 Axes>"
      ]
     },
     "metadata": {},
     "output_type": "display_data"
    }
   ],
   "source": [
    "import matplotlib.pyplot as plt\n",
    "import numpy as np\n",
    "import util\n",
    "\n",
    "# get some random training images\n",
    "dataiter = iter(loader)\n",
    "images, labels = dataiter.next()\n",
    "\n",
    "# print(images.shape)\n",
    "util.displayGTSRB(images[0].numpy())\n"
   ]
  },
  {
   "cell_type": "code",
   "execution_count": 8,
   "metadata": {},
   "outputs": [],
   "source": [
    "import torch.nn as nn\n",
    "import torch.nn.functional as F\n",
    "\n",
    "\n",
    "class Net(nn.Module):\n",
    "    def __init__(self):\n",
    "        super(Net, self).__init__()\n",
    "        self.conv1 = nn.Conv2d(3, 40, 5)\n",
    "        self.conv1_bn = nn.BatchNorm2d(40)\n",
    "        self.pool = nn.MaxPool2d(2, 2)\n",
    "        self.conv2 = nn.Conv2d(40, 20, 5)\n",
    "        self.conv2_bn = nn.BatchNorm2d(20)\n",
    "        self.fc1 = nn.Linear(20 * 5 * 5, 240)        \n",
    "        self.fc2 = nn.Linear(240, sizeOfNeuronsToMonitor)\n",
    "        self.fc3 = nn.Linear(sizeOfNeuronsToMonitor, num_classes)\n",
    "\n",
    "    def forward(self, x):\n",
    "        x = self.pool(F.relu(self.conv1_bn(self.conv1(x))))\n",
    "        x = self.pool(F.relu(self.conv2_bn((self.conv2(x)))))\n",
    "        # Flatten it to an array of inputs\n",
    "        x = x.view(-1, 20 * 5 * 5)\n",
    "        x = F.relu(self.fc1(x))\n",
    "        x = F.relu(self.fc2(x))\n",
    "        x = self.fc3(x)\n",
    "        return x \n",
    "\n",
    "    def forwardWithIntermediate(self, x):\n",
    "        x = self.pool(F.relu(self.conv1_bn(self.conv1(x))))\n",
    "        x = self.pool(F.relu(self.conv2_bn((self.conv2(x)))))\n",
    "        # Flatten it to an array of inputs\n",
    "        x = x.view(-1, 20 * 5 * 5)\n",
    "        x = F.relu(self.fc1(x))\n",
    "        intermediateValues = F.relu(self.fc2(x))\n",
    "        x = self.fc3(intermediateValues)\n",
    "        return x , intermediateValues\n"
   ]
  },
  {
   "cell_type": "code",
   "execution_count": 9,
   "metadata": {},
   "outputs": [],
   "source": [
    "net = Net()"
   ]
  },
  {
   "cell_type": "code",
   "execution_count": 10,
   "metadata": {},
   "outputs": [],
   "source": [
    "# .. to load pre-trained model:\n",
    "net.load_state_dict(torch.load('models/3_model_GTSRB_CNN_27k_train99%.ckpt'))"
   ]
  },
  {
   "cell_type": "code",
   "execution_count": 11,
   "metadata": {},
   "outputs": [],
   "source": [
    "import torch.optim as optim\n",
    "\n",
    "# Loss and optimizer\n",
    "criterion = nn.CrossEntropyLoss()\n",
    "optimizer = torch.optim.Adam(net.parameters(), lr=learning_rate)  \n",
    "\n",
    "furtherTrain = False\n",
    "\n",
    "if furtherTrain: \n",
    "\n",
    "    # Train the model\n",
    "    total_step = len(loader)\n",
    "    for epoch in range(num_epochs):\n",
    "        for i, (images, labels) in enumerate(loader):  \n",
    "            # Move tensors to the configured device\n",
    "            labels = labels.to(device)\n",
    "\n",
    "            # Forward pass\n",
    "            outputs = net(images)\n",
    "            loss = criterion(outputs, labels)\n",
    "\n",
    "            # Backward and optimize\n",
    "            optimizer.zero_grad()\n",
    "            loss.backward()\n",
    "            optimizer.step()\n",
    "\n",
    "            if (i+1) % 100 == 0:\n",
    "                print ('Epoch [{}/{}], Step [{}/{}], Loss: {:.4f}' \n",
    "                       .format(epoch+1, num_epochs, i+1, total_step, loss.item()))\n",
    "\n",
    "\n",
    "    print('Finished Training')"
   ]
  },
  {
   "cell_type": "markdown",
   "metadata": {},
   "source": [
    "For testing, we should also use the test data, where they are separated into folders based on their classes, followed by shuffling."
   ]
  },
  {
   "cell_type": "code",
   "execution_count": 12,
   "metadata": {},
   "outputs": [],
   "source": [
    "from torch.utils.data import DataLoader\n",
    "\n",
    "testdata = ImageFolder(root='data/GTSRB_Online-Test-Images-Sorted/GTSRB/Online-Test-sort', transform=standard_transform)\n",
    "testloader = DataLoader(testdata, shuffle=True)"
   ]
  },
  {
   "cell_type": "code",
   "execution_count": 13,
   "metadata": {},
   "outputs": [
    {
     "data": {
      "image/png": "[encoded data removed]",
      "text/plain": [
       "<Figure size 144x144 with 1 Axes>"
      ]
     },
     "metadata": {},
     "output_type": "display_data"
    }
   ],
   "source": [
    "dataiter = iter(testloader)\n",
    "images, labels = dataiter.next()\n",
    "\n",
    "util.displayGTSRB(images[0].numpy())"
   ]
  },
  {
   "cell_type": "code",
   "execution_count": 14,
   "metadata": {},
   "outputs": [
    {
     "name": "stdout",
     "output_type": "stream",
     "text": [
      "tensor([ 38])\n",
      "tensor([ 38])\n"
     ]
    }
   ],
   "source": [
    "outputs = net(images)\n",
    "\n",
    "_, predicted = torch.max(outputs, 1)\n",
    "\n",
    "print(predicted)\n",
    "print(labels)"
   ]
  },
  {
   "cell_type": "code",
   "execution_count": 15,
   "metadata": {},
   "outputs": [
    {
     "name": "stdout",
     "output_type": "stream",
     "text": [
      "Accuracy of the network over test images: 96.39589466146869 %\n",
      "\n",
      "\n",
      "Accuracy of     0 : 88 %\n",
      "Accuracy of     1 : 98 %\n",
      "Accuracy of     2 : 98 %\n",
      "Accuracy of     3 : 98 %\n",
      "Accuracy of     4 : 95 %\n",
      "Accuracy of     5 : 92 %\n",
      "Accuracy of     6 : 97 %\n",
      "Accuracy of     7 : 98 %\n",
      "Accuracy of     8 : 96 %\n",
      "Accuracy of     9 : 98 %\n",
      "Accuracy of    10 : 98 %\n",
      "Accuracy of    11 : 95 %\n",
      "Accuracy of    12 : 99 %\n",
      "Accuracy of    13 : 99 %\n",
      "Accuracy of    14 : 96 %\n",
      "Accuracy of    15 : 93 %\n",
      "Accuracy of    16 : 100 %\n",
      "Accuracy of    17 : 99 %\n",
      "Accuracy of    18 : 97 %\n",
      "Accuracy of    19 : 100 %\n",
      "Accuracy of    20 : 99 %\n",
      "Accuracy of    21 : 37 %\n",
      "Accuracy of    22 : 98 %\n",
      "Accuracy of    23 : 87 %\n",
      "Accuracy of    24 : 94 %\n",
      "Accuracy of    25 : 99 %\n",
      "Accuracy of    26 : 91 %\n",
      "Accuracy of    27 : 100 %\n",
      "Accuracy of    28 : 91 %\n",
      "Accuracy of    29 : 62 %\n",
      "Accuracy of    30 : 92 %\n",
      "Accuracy of    31 : 96 %\n",
      "Accuracy of    32 : 100 %\n",
      "Accuracy of    33 : 95 %\n",
      "Accuracy of    34 : 100 %\n",
      "Accuracy of    35 : 99 %\n",
      "Accuracy of    36 : 100 %\n",
      "Accuracy of    37 : 100 %\n",
      "Accuracy of    38 : 92 %\n",
      "Accuracy of    39 : 96 %\n",
      "Accuracy of    40 : 90 %\n",
      "Accuracy of    41 : 100 %\n",
      "Accuracy of    42 : 100 %\n"
     ]
    }
   ],
   "source": [
    "class_correct = list(0. for i in range(num_classes))\n",
    "class_total = list(0. for i in range(num_classes))\n",
    "\n",
    "with torch.no_grad():\n",
    "    \n",
    "    correct = 0\n",
    "    total = 0\n",
    "    for data in testloader:\n",
    "        images, labels = data\n",
    "        outputs = net(images)\n",
    "        _, predicted = torch.max(outputs, 1)\n",
    "        c = (predicted == labels)\n",
    "        label = labels[0]\n",
    "        class_correct[label] += c[0].item()\n",
    "        class_total[label] += 1\n",
    "        total += labels.size(0)\n",
    "        correct += (predicted == labels).sum().item()\n",
    "    \n",
    "    print('Accuracy of the network over test images: {} %\\n\\n'.format(100 * correct / total))\n",
    "\n",
    "for i in range(num_classes):\n",
    "    print('Accuracy of %5s : %2d %%' % (\n",
    "        i, 100 * class_correct[i] / class_total[i]))\n",
    "    "
   ]
  },
  {
   "cell_type": "code",
   "execution_count": 16,
   "metadata": {},
   "outputs": [
    {
     "name": "stdout",
     "output_type": "stream",
     "text": [
      "Accuracy of the network over train images: 99.92117117117117 %\n",
      "\n",
      "\n"
     ]
    }
   ],
   "source": [
    "with torch.no_grad():\n",
    "    \n",
    "    correct = 0\n",
    "    total = 0\n",
    "    for data in loader:\n",
    "        images, labels = data\n",
    "        outputs = net(images)\n",
    "        _, predicted = torch.max(outputs, 1)\n",
    "        c = (predicted == labels)\n",
    "        total += labels.size(0)\n",
    "        correct += (predicted == labels).sum().item()\n",
    "    \n",
    "    print('Accuracy of the network over train images: {} %\\n\\n'.format(100 * correct / total))\n",
    "\n",
    "\n",
    "    "
   ]
  },
  {
   "cell_type": "markdown",
   "metadata": {},
   "source": [
    "### Trigger 2-projection neuron on-off activation coverage computation\n"
   ]
  },
  {
   "cell_type": "code",
   "execution_count": 17,
   "metadata": {},
   "outputs": [],
   "source": [
    "from nndependability.metrics import KProjection\n",
    "\n",
    "k_Value = 2\n",
    "\n",
    "metric = KProjection.Neuron_OnOff_KProjection_Metric(k_Value, sizeOfNeuronsToMonitor)"
   ]
  },
  {
   "cell_type": "markdown",
   "metadata": {},
   "source": [
    "Trigger the function addInputs() to update the k-projection table based on all visited patterns for each batch. "
   ]
  },
  {
   "cell_type": "code",
   "execution_count": 18,
   "metadata": {},
   "outputs": [
    {
     "name": "stdout",
     "output_type": "stream",
     "text": [
      "Current input size fed into the metric: 64\n",
      "2-projection neuron on-off activation coverage:11674/13944=0.837205966724039\n",
      "\n",
      "\n",
      "Current input size fed into the metric: 3264\n",
      "2-projection neuron on-off activation coverage:11711/13944=0.839859437751004\n",
      "\n",
      "\n",
      "Current input size fed into the metric: 6464\n",
      "2-projection neuron on-off activation coverage:11794/13944=0.845811818703385\n",
      "\n",
      "\n",
      "Current input size fed into the metric: 9664\n",
      "2-projection neuron on-off activation coverage:11794/13944=0.845811818703385\n",
      "\n",
      "\n"
     ]
    },
    {
     "ename": "KeyboardInterrupt",
     "evalue": "",
     "output_type": "error",
     "traceback": [
      "\u001b[1;31m---------------------------------------------------------------------------\u001b[0m",
      "\u001b[1;31mKeyboardInterrupt\u001b[0m                         Traceback (most recent call last)",
      "\u001b[1;32m<ipython-input-18-e428f44f49aa>\u001b[0m in \u001b[0;36m<module>\u001b[1;34m()\u001b[0m\n\u001b[0;32m     10\u001b[0m \u001b[1;33m\u001b[0m\u001b[0m\n\u001b[0;32m     11\u001b[0m         \u001b[1;31m# Add the batch of neuron activation patterns to the k-projection table\u001b[0m\u001b[1;33m\u001b[0m\u001b[1;33m\u001b[0m\u001b[0m\n\u001b[1;32m---> 12\u001b[1;33m         \u001b[0mmetric\u001b[0m\u001b[1;33m.\u001b[0m\u001b[0maddInputs\u001b[0m\u001b[1;33m(\u001b[0m\u001b[0mintermediateValues\u001b[0m\u001b[1;33m.\u001b[0m\u001b[0mnumpy\u001b[0m\u001b[1;33m(\u001b[0m\u001b[1;33m)\u001b[0m\u001b[1;33m)\u001b[0m\u001b[1;33m\u001b[0m\u001b[0m\n\u001b[0m\u001b[0;32m     13\u001b[0m \u001b[1;33m\u001b[0m\u001b[0m\n\u001b[0;32m     14\u001b[0m         \u001b[1;32mif\u001b[0m\u001b[1;33m(\u001b[0m\u001b[0mi\u001b[0m \u001b[1;33m%\u001b[0m \u001b[1;36m50\u001b[0m\u001b[1;33m)\u001b[0m \u001b[1;33m==\u001b[0m \u001b[1;36m0\u001b[0m\u001b[1;33m:\u001b[0m\u001b[1;33m\u001b[0m\u001b[0m\n",
      "\u001b[1;32mC:\\Research\\SVN-Git\\github\\nn-dependability-kit\\nndependability\\metrics\\KProjection.py\u001b[0m in \u001b[0;36maddInputs\u001b[1;34m(self, neuronValuesNp)\u001b[0m\n\u001b[0;32m     69\u001b[0m                     \u001b[1;32melse\u001b[0m \u001b[1;33m:\u001b[0m\u001b[1;33m\u001b[0m\u001b[0m\n\u001b[0;32m     70\u001b[0m                         \u001b[1;32mfor\u001b[0m \u001b[0mneuronIndexJ\u001b[0m \u001b[1;32min\u001b[0m \u001b[0mrange\u001b[0m\u001b[1;33m(\u001b[0m\u001b[0mneuronIndexI\u001b[0m\u001b[1;33m+\u001b[0m\u001b[1;36m1\u001b[0m\u001b[1;33m,\u001b[0m \u001b[0mself\u001b[0m\u001b[1;33m.\u001b[0m\u001b[0mnumberOfNeuronsToTrack\u001b[0m\u001b[1;33m)\u001b[0m\u001b[1;33m:\u001b[0m\u001b[1;33m\u001b[0m\u001b[0m\n\u001b[1;32m---> 71\u001b[1;33m                             \u001b[1;32mif\u001b[0m\u001b[1;33m(\u001b[0m\u001b[0mivabs\u001b[0m\u001b[1;33m[\u001b[0m\u001b[0mexampleIndex\u001b[0m\u001b[1;33m,\u001b[0m\u001b[0mneuronIndexJ\u001b[0m\u001b[1;33m]\u001b[0m  \u001b[1;33m>\u001b[0m\u001b[1;36m0\u001b[0m\u001b[1;33m)\u001b[0m \u001b[1;33m:\u001b[0m\u001b[1;33m\u001b[0m\u001b[0m\n\u001b[0m\u001b[0;32m     72\u001b[0m                                 \u001b[0mself\u001b[0m\u001b[1;33m.\u001b[0m\u001b[0mk_Activation_record\u001b[0m\u001b[1;33m[\u001b[0m\u001b[1;34m\"N\"\u001b[0m \u001b[1;33m+\u001b[0m \u001b[0mstr\u001b[0m\u001b[1;33m(\u001b[0m\u001b[0mneuronIndexI\u001b[0m\u001b[1;33m)\u001b[0m \u001b[1;33m+\u001b[0m\u001b[1;34m\"_\"\u001b[0m\u001b[1;33m+\u001b[0m \u001b[1;34m\"N\"\u001b[0m\u001b[1;33m+\u001b[0m \u001b[0mstr\u001b[0m\u001b[1;33m(\u001b[0m\u001b[0mneuronIndexJ\u001b[0m\u001b[1;33m)\u001b[0m\u001b[1;33m]\u001b[0m\u001b[1;33m.\u001b[0m\u001b[0madd\u001b[0m\u001b[1;33m(\u001b[0m\u001b[1;34m\"01\"\u001b[0m\u001b[1;33m)\u001b[0m\u001b[1;33m\u001b[0m\u001b[0m\n\u001b[0;32m     73\u001b[0m                             \u001b[1;32melse\u001b[0m\u001b[1;33m:\u001b[0m\u001b[1;33m\u001b[0m\u001b[0m\n",
      "\u001b[1;31mKeyboardInterrupt\u001b[0m: "
     ]
    }
   ],
   "source": [
    "with torch.no_grad():\n",
    "\n",
    "    total = 0\n",
    "    i = 0\n",
    "    for images, labels in loader:\n",
    "        \n",
    "        total = total + (len(labels))\n",
    "        labels = labels.to(device)\n",
    "        outputs, intermediateValues = net.forwardWithIntermediate(images)\n",
    "        \n",
    "        # Add the batch of neuron activation patterns to the k-projection table\n",
    "        metric.addInputs(intermediateValues.numpy())\n",
    "                \n",
    "        if(i % 50) == 0:\n",
    "            print('Current input size fed into the metric: '+str(total))\n",
    "            metric.printMetricQuantity()\n",
    "            print(\"\\n\")\n",
    "        i = i+1\n",
    "        "
   ]
  },
  {
   "cell_type": "code",
   "execution_count": 19,
   "metadata": {},
   "outputs": [
    {
     "name": "stdout",
     "output_type": "stream",
     "text": [
      "2-projection neuron on-off activation coverage:11794/13944=0.845811818703385\n"
     ]
    }
   ],
   "source": [
    "metric.printMetricQuantity()"
   ]
  },
  {
   "cell_type": "markdown",
   "metadata": {},
   "source": [
    "(Optional) Now, ask the test case generator to derive us a pattern which maximally increases 2-projection coverage"
   ]
  },
  {
   "cell_type": "code",
   "execution_count": 20,
   "metadata": {},
   "outputs": [],
   "source": [
    "from nndependability.atg.nap import napgen"
   ]
  },
  {
   "cell_type": "code",
   "execution_count": 21,
   "metadata": {},
   "outputs": [
    {
     "name": "stdout",
     "output_type": "stream",
     "text": [
      "Maximum possibility for improvement = 2150\n",
      "Optimal objective value computed from IP = 1071\n",
      "\n",
      "for neuron 0, set it to 0\n",
      "for neuron 1, set it to 0\n",
      "for neuron 2, set it to 1\n",
      "for neuron 3, set it to 1\n",
      "for neuron 4, set it to 0\n",
      "for neuron 5, set it to 0\n",
      "for neuron 6, set it to 1\n",
      "for neuron 7, set it to 1\n",
      "for neuron 8, set it to 1\n",
      "for neuron 9, set it to 1\n",
      "for neuron 10, set it to 0\n",
      "for neuron 11, set it to 0\n",
      "for neuron 12, set it to 0\n",
      "for neuron 13, set it to 0\n",
      "for neuron 14, set it to 0\n",
      "for neuron 15, set it to 0\n",
      "for neuron 16, set it to 0\n",
      "for neuron 17, set it to 0\n",
      "for neuron 18, set it to 1\n",
      "for neuron 19, set it to 0\n",
      "for neuron 20, set it to 0\n",
      "for neuron 21, set it to 1\n",
      "for neuron 22, set it to 1\n",
      "for neuron 23, set it to 1\n",
      "for neuron 24, set it to 1\n",
      "for neuron 25, set it to 0\n",
      "for neuron 26, set it to 1\n",
      "for neuron 27, set it to 0\n",
      "for neuron 28, set it to 1\n",
      "for neuron 29, set it to 0\n",
      "for neuron 30, set it to 1\n",
      "for neuron 31, set it to 1\n",
      "for neuron 32, set it to 1\n",
      "for neuron 33, set it to 1\n",
      "for neuron 34, set it to 0\n",
      "for neuron 35, set it to 1\n",
      "for neuron 36, set it to 1\n",
      "for neuron 37, set it to 0\n",
      "for neuron 38, set it to 0\n",
      "for neuron 39, set it to 0\n",
      "for neuron 40, set it to 1\n",
      "for neuron 41, set it to 1\n",
      "for neuron 42, set it to 0\n",
      "for neuron 43, set it to 0\n",
      "for neuron 44, set it to 1\n",
      "for neuron 45, set it to 0\n",
      "for neuron 46, set it to 0\n",
      "for neuron 47, set it to 1\n",
      "for neuron 48, set it to 1\n",
      "for neuron 49, set it to 1\n",
      "for neuron 50, set it to 0\n",
      "for neuron 51, set it to 0\n",
      "for neuron 52, set it to 1\n",
      "for neuron 53, set it to 1\n",
      "for neuron 54, set it to 1\n",
      "for neuron 55, set it to 1\n",
      "for neuron 56, set it to 1\n",
      "for neuron 57, set it to 1\n",
      "for neuron 58, set it to 1\n",
      "for neuron 59, set it to 0\n",
      "for neuron 60, set it to 1\n",
      "for neuron 61, set it to 0\n",
      "for neuron 62, set it to 1\n",
      "for neuron 63, set it to 0\n",
      "for neuron 64, set it to 0\n",
      "for neuron 65, set it to 1\n",
      "for neuron 66, set it to 0\n",
      "for neuron 67, set it to 0\n",
      "for neuron 68, set it to 1\n",
      "for neuron 69, set it to 0\n",
      "for neuron 70, set it to 1\n",
      "for neuron 71, set it to 0\n",
      "for neuron 72, set it to 0\n",
      "for neuron 73, set it to 0\n",
      "for neuron 74, set it to 0\n",
      "for neuron 75, set it to 0\n",
      "for neuron 76, set it to 1\n",
      "for neuron 77, set it to 1\n",
      "for neuron 78, set it to 0\n",
      "for neuron 79, set it to 1\n",
      "for neuron 80, set it to 0\n",
      "for neuron 81, set it to 1\n",
      "for neuron 82, set it to 1\n",
      "for neuron 83, set it to 0\n"
     ]
    }
   ],
   "source": [
    "napgen.proposeNAPcandidate(metric)"
   ]
  },
  {
   "cell_type": "markdown",
   "metadata": {},
   "source": [
    "We now pick an image, and try to find a perturbation to satisfy a specific neuron pattern"
   ]
  },
  {
   "cell_type": "code",
   "execution_count": 22,
   "metadata": {},
   "outputs": [
    {
     "data": {
      "image/png": "[encoded data removed]",
      "text/plain": [
       "<Figure size 144x144 with 1 Axes>"
      ]
     },
     "metadata": {},
     "output_type": "display_data"
    }
   ],
   "source": [
    "dataiter = iter(loader)\n",
    "images, labels = dataiter.next()\n",
    "\n",
    "util.displayGTSRB(images[0].numpy())"
   ]
  },
  {
   "cell_type": "markdown",
   "metadata": {},
   "source": [
    "Here, we want to control neuron 3 and neuron 4 such that there sign is positive (activated) and negative (deactivated)"
   ]
  },
  {
   "cell_type": "code",
   "execution_count": 23,
   "metadata": {},
   "outputs": [],
   "source": [
    "from nndependability.atg.gradient import gratestgen"
   ]
  },
  {
   "cell_type": "code",
   "execution_count": 24,
   "metadata": {},
   "outputs": [
    {
     "name": "stdout",
     "output_type": "stream",
     "text": [
      "tensor([[  6.2836,   0.0000,   0.0000,   0.3417,   9.9121,   0.0000,\n",
      "           0.0000,   2.0484,   3.4537,   0.0000,   3.1498,   3.8967,\n",
      "           0.0000,   0.0000,   0.0000,   0.0000,   0.0000,   0.3413,\n",
      "           0.0000,   5.1137,   7.0282,   0.0000,   0.0000,   0.0000,\n",
      "           0.0000,   0.0000,   0.0000,   0.0000,   0.0000,   3.1754,\n",
      "           0.0000,   0.0000,   0.0000,   1.9275,   6.1149,   7.9091,\n",
      "           0.0000,   0.0000,   0.5621,   3.5579,   0.0000,   0.0000,\n",
      "           0.0000,   0.3964,  12.2881,   0.0000,   0.0000,   0.0000,\n",
      "           0.0000,   7.8453,   0.0000,   6.6888,   0.0000,   8.5077,\n",
      "          11.8006,   0.0000,   1.0878,   0.0000,   0.0000,   0.0000,\n",
      "           0.0000,   1.6674,   0.0000,   0.0000,   8.3971,   4.6590,\n",
      "           0.0000,  14.7758,   0.0000,   0.0000,   0.0000,   0.0000,\n",
      "           0.0000,   4.0650,   0.0000,   0.0000,   0.0000,  13.8483,\n",
      "           4.7965,   9.8426,   0.0000,   6.7496,   0.0000,   0.0000]])\n",
      "tensor([[  6.2836,   0.0000,   0.0000,   0.3417,  -1.0000,   0.0000,\n",
      "           0.0000,   2.0484,   3.4537,   0.0000,   3.1498,   3.8967,\n",
      "           0.0000,   0.0000,   0.0000,   0.0000,   0.0000,   0.3413,\n",
      "           0.0000,   5.1137,   7.0282,   0.0000,   0.0000,   0.0000,\n",
      "           0.0000,   0.0000,   0.0000,   0.0000,   0.0000,   3.1754,\n",
      "           0.0000,   0.0000,   0.0000,   1.9275,   6.1149,   7.9091,\n",
      "           0.0000,   0.0000,   0.5621,   3.5579,   0.0000,   0.0000,\n",
      "           0.0000,   0.3964,  12.2881,   0.0000,   0.0000,   0.0000,\n",
      "           0.0000,   7.8453,   0.0000,   6.6888,   0.0000,   8.5077,\n",
      "          11.8006,   0.0000,   1.0878,   0.0000,   0.0000,   0.0000,\n",
      "           0.0000,   1.6674,   0.0000,   0.0000,   8.3971,   4.6590,\n",
      "           0.0000,  14.7758,   0.0000,   0.0000,   0.0000,   0.0000,\n",
      "           0.0000,   4.0650,   0.0000,   0.0000,   0.0000,  13.8483,\n",
      "           4.7965,   9.8426,   0.0000,   6.7496,   0.0000,   0.0000]])\n",
      "0: 0.34165525, 9.912079\n",
      "Found an image to successfully create the required pattern:\n"
     ]
    }
   ],
   "source": [
    "targetedNeuronIndex= list()\n",
    "desiredNAP = list()\n",
    "\n",
    "# Specify the target - we want to contril neuron 3 and neuron 4, with sign being positiove and negative\n",
    "targetedNeuronIndex.append(3)\n",
    "targetedNeuronIndex.append(4)\n",
    "\n",
    "desiredNAP.append(1)\n",
    "desiredNAP.append(-1)\n",
    "\n",
    "# Trigger gradient-based test case generation\n",
    "new_image, testcaseGenSuccessful = gratestgen.generateTestCase(images[0].unsqueeze(0), targetedNeuronIndex, desiredNAP, net)\n"
   ]
  },
  {
   "cell_type": "code",
   "execution_count": 25,
   "metadata": {},
   "outputs": [
    {
     "name": "stdout",
     "output_type": "stream",
     "text": [
      "neuron activation: 0.08950423, 0.0\n"
     ]
    },
    {
     "data": {
      "image/png": "[encoded data removed]",
      "text/plain": [
       "<Figure size 144x144 with 1 Axes>"
      ]
     },
     "metadata": {},
     "output_type": "display_data"
    }
   ],
   "source": [
    "if testcaseGenSuccessful: \n",
    "    util.displayGTSRB(new_image[0].numpy())\n",
    "    out, intermediate = net.forwardWithIntermediate(new_image)\n",
    "    print(\"neuron activation: \"+str(intermediate.detach().numpy().squeeze(0)[targetedNeuronIndex[0]]) + \", \"+ str(intermediate.detach().numpy().squeeze(0)[targetedNeuronIndex[1]]))\n"
   ]
  },
  {
   "cell_type": "code",
   "execution_count": null,
   "metadata": {},
   "outputs": [],
   "source": [
    "if testcaseGenSuccessful: \n",
    "    util.displayGTSRB((new_image[0].numpy() - images[0].numpy()) + 0.5)"
   ]
  },
  {
   "cell_type": "code",
   "execution_count": null,
   "metadata": {},
   "outputs": [],
   "source": []
  }
 ],
 "metadata": {
  "kernelspec": {
   "display_name": "Python 3",
   "language": "python",
   "name": "python3"
  },
  "language_info": {
   "codemirror_mode": {
    "name": "ipython",
    "version": 3
   },
   "file_extension": ".py",
   "mimetype": "text/x-python",
   "name": "python",
   "nbconvert_exporter": "python",
   "pygments_lexer": "ipython3",
   "version": "3.6.6rc1"
  }
 },
 "nbformat": 4,
 "nbformat_minor": 2
}
