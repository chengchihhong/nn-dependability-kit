{
 "cells": [
  {
   "cell_type": "markdown",
   "metadata": {},
   "source": [
    "# Runtime Monitoring Neuron Activation Patterns (1) - MNIST CNN"
   ]
  },
  {
   "cell_type": "markdown",
   "metadata": {},
   "source": [
    "Start by fixing the random seed to ensure reproducability. In all our examples, we use 42. "
   ]
  },
  {
   "cell_type": "code",
   "execution_count": 1,
   "metadata": {},
   "outputs": [],
   "source": [
    "import numpy.random\n",
    "# Fix the number for repeatability (we have also stored the trained model)\n",
    "numpy.random.seed(42)\n"
   ]
  },
  {
   "cell_type": "code",
   "execution_count": 2,
   "metadata": {},
   "outputs": [],
   "source": [
    "# Put these at the top of every notebook, to get automatic reloading and inline plotting\n",
    "%reload_ext autoreload\n",
    "%autoreload 2\n",
    "%matplotlib inline"
   ]
  },
  {
   "cell_type": "markdown",
   "metadata": {},
   "source": [
    "Import all required library, and set the device."
   ]
  },
  {
   "cell_type": "code",
   "execution_count": 3,
   "metadata": {},
   "outputs": [],
   "source": [
    "import torch\n",
    "import torch.nn as nn\n",
    "import torchvision\n",
    "import torchvision.transforms as transforms\n",
    "\n",
    "import numpy as np\n",
    "import h5py\n",
    "import scipy.misc\n",
    "import math\n",
    "import matplotlib.pyplot as plt\n",
    "from torch.autograd  import Variable\n",
    "from torch.autograd.gradcheck import zero_gradients\n",
    "from torch.utils.data import Dataset, DataLoader\n",
    "\n",
    "import torchvision.transforms as T\n",
    "from torchvision.models.inception import inception_v3\n",
    "\n",
    "from PIL import Image\n",
    "from scipy.misc import imsave\n",
    "import os\n",
    "\n",
    "\n",
    "# Device configuration\n",
    "device = torch.device('cuda' if torch.cuda.is_available() else 'cpu')\n"
   ]
  },
  {
   "cell_type": "markdown",
   "metadata": {},
   "source": [
    "Define hyper-parameters. The parameter \"sizeOfNeuronsToMonitor\" is the number of neurons we will monitor, which is the 2nd to last layer. "
   ]
  },
  {
   "cell_type": "code",
   "execution_count": 4,
   "metadata": {},
   "outputs": [],
   "source": [
    "# Hyper-parameters \n",
    "num_classes = 10\n",
    "num_epochs = 5\n",
    "batch_size = 64\n",
    "learning_rate = 0.001\n",
    "sizeOfNeuronsToMonitor = 40"
   ]
  },
  {
   "cell_type": "markdown",
   "metadata": {},
   "source": [
    "Then , prepare the training and test set. MNIST can be directly downloaded. Notice that we do not normalize the input data, but just rely on small learning rates. "
   ]
  },
  {
   "cell_type": "code",
   "execution_count": 5,
   "metadata": {},
   "outputs": [],
   "source": [
    "# MNIST dataset \n",
    "train_dataset = torchvision.datasets.MNIST(root='data/mnist', \n",
    "                                           train=True, \n",
    "                                           transform=transforms.ToTensor(),  \n",
    "                                           download=True)\n",
    "\n",
    "test_dataset = torchvision.datasets.MNIST(root='data/mnist', \n",
    "                                          train=False, \n",
    "                                          transform=transforms.ToTensor())\n",
    "\n",
    "# Data loader\n",
    "train_loader = torch.utils.data.DataLoader(dataset=train_dataset, \n",
    "                                           batch_size=batch_size, \n",
    "                                           shuffle=True)\n",
    "\n",
    "test_loader = torch.utils.data.DataLoader(dataset=test_dataset, \n",
    "                                          batch_size=batch_size, \n",
    "                                          shuffle=False)\n",
    "\n"
   ]
  },
  {
   "cell_type": "markdown",
   "metadata": {},
   "source": [
    "Define a utility function to display MNIST images. "
   ]
  },
  {
   "cell_type": "code",
   "execution_count": 6,
   "metadata": {},
   "outputs": [],
   "source": [
    "import util\n",
    "    "
   ]
  },
  {
   "cell_type": "code",
   "execution_count": 7,
   "metadata": {},
   "outputs": [
    {
     "data": {
      "image/png": "[encoded data removed]",
      "text/plain": [
       "<Figure size 108x108 with 1 Axes>"
      ]
     },
     "metadata": {},
     "output_type": "display_data"
    }
   ],
   "source": [
    "dataiter = iter(train_loader)\n",
    "images, labels = dataiter.next()\n",
    "\n",
    "util.displayMNIST(images[0].numpy())\n"
   ]
  },
  {
   "cell_type": "markdown",
   "metadata": {},
   "source": [
    "### Prepare the network \n",
    "\n",
    "To use run-time monitoring, apart from standard \"forward()\" function, we additionally define another function to return values of intermediate layers. \n"
   ]
  },
  {
   "cell_type": "code",
   "execution_count": 8,
   "metadata": {},
   "outputs": [],
   "source": [
    "import torch.nn as nn\n",
    "import torch.nn.functional as F\n",
    "\n",
    "class NeuralNet(nn.Module):\n",
    "    \n",
    "    def __init__(self):\n",
    "        super(NeuralNet, self).__init__()\n",
    " \n",
    "        self.conv1 = nn.Conv2d(1, 40, 5)\n",
    "        self.pool = nn.MaxPool2d(2, 2)\n",
    "        self.conv2 = nn.Conv2d(40, 20, 5)\n",
    "        self.fc1 = nn.Linear(20 * 4 * 4, 160)\n",
    "        self.fc2 = nn.Linear(160, 80)\n",
    "        self.fc3 = nn.Linear(80, sizeOfNeuronsToMonitor)\n",
    "        self.fc4 = nn.Linear(sizeOfNeuronsToMonitor, num_classes)\n",
    "        \n",
    "    def forward(self, x):\n",
    "        # Original 28x28x1 -(conv)-> 24x24x40 -(pool)-> 12x12x40\n",
    "        x = self.pool(F.relu(self.conv1(x)))\n",
    "        # Original 12x12x40 -(conv)-> 8x8x20 -(pool)-> 4x4x20\n",
    "        x = self.pool(F.relu(self.conv2(x)))\n",
    "        # Flatten it to an array of inputs\n",
    "        x = x.view(-1, 20 * 4 * 4)\n",
    "        x = F.relu(self.fc1(x))\n",
    "        x = F.relu(self.fc2(x))\n",
    "        x = F.relu(self.fc3(x))\n",
    "        out = self.fc4(x)\n",
    "        return out \n",
    "  \n",
    "    # Here we add another function, which does the same forward computation but also extracts intermediate layer results\n",
    "    def forwardWithIntermediate(self, x):\n",
    "        x = self.pool(F.relu(self.conv1(x)))\n",
    "        x = self.pool(F.relu(self.conv2(x)))\n",
    "        x = x.view(-1, 20 * 4 * 4)\n",
    "        x = F.relu(self.fc1(x))\n",
    "        x = F.relu(self.fc2(x))\n",
    "        x = self.fc3(x)\n",
    "        intermediateValues = x\n",
    "        x = F.relu(x)\n",
    "        out = self.fc4(x)\n",
    "        return out, intermediateValues    \n",
    "    \n",
    "net = NeuralNet()\n",
    "net.eval()\n",
    "\n",
    "# Loss and optimizer\n",
    "criterion = nn.CrossEntropyLoss()\n",
    "optimizer = torch.optim.Adam(net.parameters(), lr=learning_rate)  \n",
    "\n"
   ]
  },
  {
   "cell_type": "markdown",
   "metadata": {},
   "source": [
    "Load the model (if you have a pretrained one)"
   ]
  },
  {
   "cell_type": "code",
   "execution_count": 9,
   "metadata": {},
   "outputs": [],
   "source": [
    "# Setup model to be attacked\n",
    "# net = NeuralNet()\n",
    "net.load_state_dict(torch.load('models/1_model_MNIST_CNN.ckpt'))"
   ]
  },
  {
   "cell_type": "markdown",
   "metadata": {},
   "source": [
    "Train the model"
   ]
  },
  {
   "cell_type": "code",
   "execution_count": 10,
   "metadata": {},
   "outputs": [],
   "source": [
    "\n",
    "furtherTrain = False\n",
    "\n",
    "if furtherTrain: \n",
    "\n",
    "    # Train the model\n",
    "    total_step = len(train_loader)\n",
    "    for epoch in range(num_epochs):\n",
    "        for i, (images, labels) in enumerate(train_loader):  \n",
    "            # Move tensors to the configured device\n",
    "            labels = labels.to(device)\n",
    "\n",
    "            # Forward pass\n",
    "            outputs = net(images)\n",
    "            loss = criterion(outputs, labels)\n",
    "\n",
    "            # Backward and optimize\n",
    "            optimizer.zero_grad()\n",
    "            loss.backward()\n",
    "            optimizer.step()\n",
    "\n",
    "            if (i+1) % 100 == 0:\n",
    "                print ('Epoch [{}/{}], Step [{}/{}], Loss: {:.4f}' \n",
    "                       .format(epoch+1, num_epochs, i+1, total_step, loss.item()))\n",
    "\n"
   ]
  },
  {
   "cell_type": "markdown",
   "metadata": {},
   "source": [
    "### Compute accuracy on the test set"
   ]
  },
  {
   "cell_type": "code",
   "execution_count": 11,
   "metadata": {},
   "outputs": [
    {
     "name": "stdout",
     "output_type": "stream",
     "text": [
      "Accuracy of the network on the 10000 test images: 98.81 %\n"
     ]
    }
   ],
   "source": [
    "# In test phase, we don't need to compute gradients (for memory efficiency)\n",
    "\n",
    "with torch.no_grad():\n",
    "    correct = 0\n",
    "    outofActivationPattern = 0\n",
    "    outofActivationPatternAndResultWrong = 0\n",
    "    \n",
    "    total = 0\n",
    "    for images, labels in test_loader:\n",
    "        labels = labels.to(device)\n",
    "        outputs = net(images)\n",
    "        _, predicted = torch.max(outputs.data, 1)\n",
    "        total += labels.size(0)\n",
    "        correct += (predicted == labels).sum().item()\n",
    "        \n",
    "\n",
    "    print('Accuracy of the network on the 10000 test images: {} %'.format(100 * correct / total))\n",
    "     "
   ]
  },
  {
   "cell_type": "markdown",
   "metadata": {},
   "source": [
    "## Runtime Monitoring"
   ]
  },
  {
   "cell_type": "markdown",
   "metadata": {},
   "source": [
    "### A. Trigger neuron on-off activation pattern monitoring\n",
    "\n",
    "Here we pretend that test set is the \"real data\" after deployment, so we only record neuron activation patterns inside the training set. \n",
    "\n",
    " "
   ]
  },
  {
   "cell_type": "code",
   "execution_count": 12,
   "metadata": {},
   "outputs": [],
   "source": [
    "from nndependability.rv import napmonitor\n",
    "monitor = napmonitor.NAP_Monitor(num_classes, sizeOfNeuronsToMonitor)"
   ]
  },
  {
   "cell_type": "markdown",
   "metadata": {},
   "source": [
    "Trigger the function addAllNeuronPatternsToClass() to record all visited patterns for each batch (internally the monitor will filter incorrect results). "
   ]
  },
  {
   "cell_type": "code",
   "execution_count": 13,
   "metadata": {},
   "outputs": [
    {
     "name": "stdout",
     "output_type": "stream",
     "text": [
      "Accuracy of the network on the all train images: 99.34166666666667 %\n"
     ]
    }
   ],
   "source": [
    "with torch.no_grad():\n",
    "    correct = 0\n",
    "    total = 0\n",
    "    for images, labels in train_loader:\n",
    "        labels = labels.to(device)\n",
    "        outputs, intermediateValues = net.forwardWithIntermediate(images)\n",
    "        _, predicted = torch.max(outputs.data, 1)\n",
    "        total += labels.size(0)\n",
    "        correct += (predicted == labels).sum().item()\n",
    "        \n",
    "        # Add the batch of neuron activation patterns to the monitor\n",
    "        monitor.addAllNeuronPatternsToClass(intermediateValues.numpy(), predicted.numpy(), labels.numpy(), -1)\n",
    "\n",
    "                \n",
    "    print('Accuracy of the network on the all train images: {} %'.format(100 * correct / total))\n"
   ]
  },
  {
   "cell_type": "markdown",
   "metadata": {},
   "source": [
    "#### Perform run-time monitoring and examine if an activation pattern has been visited before"
   ]
  },
  {
   "cell_type": "code",
   "execution_count": 14,
   "metadata": {},
   "outputs": [
    {
     "name": "stdout",
     "output_type": "stream",
     "text": [
      "Accuracy of the network on the 10000 test images: 98.81 %\n",
      "Out-of-activation pattern on the 10000 test images: 7.66 %\n",
      "Out-of-activation pattern & misclassified / out-of-activation pattern : 10.704960835509139 %\n"
     ]
    }
   ],
   "source": [
    "# We don't need to compute gradients (for memory efficiency)\n",
    "with torch.no_grad():\n",
    "    correct = 0\n",
    "    outofActivationPattern = 0\n",
    "    outofActivationPatternAndResultWrong = 0\n",
    "    \n",
    "    total = 0\n",
    "    for images, labels in test_loader:\n",
    "        labels = labels.to(device)\n",
    "        outputs, intermediateValues = net.forwardWithIntermediate(images)\n",
    "        _, predicted = torch.max(outputs.data, 1)\n",
    "        total += labels.size(0)\n",
    "        correct += (predicted == labels).sum().item()\n",
    "                \n",
    "        # Additional processing for runtime monitoring\n",
    "        \n",
    "        predictedNp = predicted.numpy()\n",
    "        \n",
    "        result = (predicted == labels)\n",
    "        res = result.numpy()\n",
    "               \n",
    "        # Iterate over each image in the batch\n",
    "        for exampleIndex in range(intermediateValues.shape[0]):   \n",
    "            if not monitor.isPatternContained(intermediateValues.numpy()[exampleIndex,:], predicted.numpy()[exampleIndex]):\n",
    "                outofActivationPattern = outofActivationPattern +1\n",
    "                if res[exampleIndex] == False :\n",
    "                    outofActivationPatternAndResultWrong = outofActivationPatternAndResultWrong + 1\n",
    "          \n",
    "    print('Accuracy of the network on the 10000 test images: {} %'.format(100 * correct / total))\n",
    "    print('Out-of-activation pattern on the 10000 test images: {} %'.format(100 * outofActivationPattern / total))\n",
    "    print('Out-of-activation pattern & misclassified / out-of-activation pattern : {} %'.format(100 * outofActivationPatternAndResultWrong / (outofActivationPattern)))\n",
    "          "
   ]
  },
  {
   "cell_type": "code",
   "execution_count": 15,
   "metadata": {},
   "outputs": [
    {
     "name": "stdout",
     "output_type": "stream",
     "text": [
      "Out-of-activation pattern & misclassified / mis-classified: 68.90756302521008 %\n"
     ]
    }
   ],
   "source": [
    "print('Out-of-activation pattern & misclassified / mis-classified: {} %'.format(100 * outofActivationPatternAndResultWrong / (total - correct)))\n",
    "  "
   ]
  },
  {
   "cell_type": "markdown",
   "metadata": {},
   "source": [
    "###  B. Produce adversarial training example using iterative FGSM and check if the activation pattern is within"
   ]
  },
  {
   "cell_type": "code",
   "execution_count": 16,
   "metadata": {},
   "outputs": [
    {
     "data": {
      "image/png": "[encoded data removed]",
      "text/plain": [
       "<Figure size 108x108 with 1 Axes>"
      ]
     },
     "metadata": {},
     "output_type": "display_data"
    }
   ],
   "source": [
    "dataiter = iter(test_loader)\n",
    "images, labels = dataiter.next()\n",
    "\n",
    "\n",
    "\n",
    "util.displayMNIST(images[0].numpy())"
   ]
  },
  {
   "cell_type": "code",
   "execution_count": 17,
   "metadata": {},
   "outputs": [],
   "source": [
    "import util"
   ]
  },
  {
   "cell_type": "markdown",
   "metadata": {},
   "source": [
    "The iterative FGSM attack is within util.py"
   ]
  },
  {
   "cell_type": "code",
   "execution_count": 18,
   "metadata": {},
   "outputs": [],
   "source": [
    "img = images[0].unsqueeze(0)\n",
    "label = labels[0].unsqueeze(0)\n",
    "\n",
    "adv_img, noise, attackSuccessful = util.iterative_FGSM_attack(img, label, net)"
   ]
  },
  {
   "cell_type": "code",
   "execution_count": 19,
   "metadata": {},
   "outputs": [
    {
     "data": {
      "image/png": "[encoded data removed]",
      "text/plain": [
       "<Figure size 108x108 with 1 Axes>"
      ]
     },
     "metadata": {},
     "output_type": "display_data"
    }
   ],
   "source": [
    "if attackSuccessful :\n",
    "    util.displayMNIST(adv_img[0].numpy())\n",
    "else:\n",
    "    print(\"iterative FGSM is not effective\")"
   ]
  },
  {
   "cell_type": "markdown",
   "metadata": {},
   "source": [
    "As the noise value is not within [0, 1]. Therefore, we add each pixel  with 0.5 to display the effect. "
   ]
  },
  {
   "cell_type": "code",
   "execution_count": 20,
   "metadata": {},
   "outputs": [
    {
     "data": {
      "image/png": "[encoded data removed]",
      "text/plain": [
       "<Figure size 108x108 with 1 Axes>"
      ]
     },
     "metadata": {},
     "output_type": "display_data"
    }
   ],
   "source": [
    "if attackSuccessful :\n",
    "    util.displayMNIST(noise[0].numpy()+0.5)"
   ]
  },
  {
   "cell_type": "markdown",
   "metadata": {},
   "source": [
    "Let's check if the adversarial image produces any similar activation pattern. After flowing the pattern into the monitor, the monitor diagnoses that it has not seen anything similar. "
   ]
  },
  {
   "cell_type": "code",
   "execution_count": 21,
   "metadata": {},
   "outputs": [
    {
     "name": "stdout",
     "output_type": "stream",
     "text": [
      "tensor([[-3.6698, -2.0072, -2.4491,  2.9892, -1.5599,  0.6358, -7.5163,\n",
      "          2.5283, -0.9109,  4.8922]])\n"
     ]
    }
   ],
   "source": [
    "out, intermediateValues = net.forwardWithIntermediate(adv_img)        \n",
    "print(out.data)"
   ]
  },
  {
   "cell_type": "code",
   "execution_count": 22,
   "metadata": {},
   "outputs": [
    {
     "name": "stdout",
     "output_type": "stream",
     "text": [
      "Adv example is not within activation pattern\n"
     ]
    }
   ],
   "source": [
    "_, predicted = torch.max(out.data, 1)\n",
    "#iv = intermediateValues.detach().numpy()\n",
    "#mat = np.zeros(intermediateValues.shape)\n",
    "#ivabs = np.greater(iv, mat)\n",
    "\n",
    "# Only perform analysis when the monitor takes all classes\n",
    "for exampleIndex in range(intermediateValues.detach().numpy().shape[0]):      \n",
    "    if not monitor.isPatternContained(intermediateValues.detach().numpy()[exampleIndex,:], predicted.numpy()[exampleIndex]):\n",
    "        print(\"Adv example is not within activation pattern\")\n",
    "    else:\n",
    "        print(\"Adv example is within activation pattern\")\n"
   ]
  },
  {
   "cell_type": "markdown",
   "metadata": {},
   "source": [
    "Finally, try to generate adversarial images for each image of the test set, and check the percentage of being out of patterns. "
   ]
  },
  {
   "cell_type": "code",
   "execution_count": 23,
   "metadata": {},
   "outputs": [],
   "source": [
    "def performAdversarialExamination(loader, monitor):\n",
    "    notInNeuronActivationPattern = 0\n",
    "    totalPerturbed = 0\n",
    "    for images, labels in loader:\n",
    "        # print(list(images.size())[0])\n",
    "        for i in range(list(images.size())[0]):\n",
    "\n",
    "            adv_img, noise, attackSuccessful = util.iterative_FGSM_attack(images[i].unsqueeze(0), labels[i].unsqueeze(0), net)\n",
    "\n",
    "            if (attackSuccessful) :\n",
    "                totalPerturbed = totalPerturbed + 1\n",
    "\n",
    "                out, intermediateValues = net.forwardWithIntermediate(adv_img)  \n",
    "                _, predicted = torch.max(out.data, 1)\n",
    "                # iv = intermediateValues.detach().numpy()\n",
    "                # mat = np.zeros(intermediateValues.shape)\n",
    "                # ivabs = np.greater(iv, mat)\n",
    "\n",
    "                for exampleIndex in range(intermediateValues.shape[0]): \n",
    "                    # if not monitor.isOnOffPatternContained(ivabs[exampleIndex,:], predicted.numpy()[exampleIndex]):\n",
    "                    if not monitor.isPatternContained(intermediateValues.detach().numpy()[exampleIndex,:], predicted.numpy()[exampleIndex]):\n",
    "                        notInNeuronActivationPattern = notInNeuronActivationPattern +1\n",
    "\n",
    "\n",
    "    print('not in neuron activation pattern / all total perturbed: {} %'.format(100 * notInNeuronActivationPattern / totalPerturbed))\n",
    "    print('all total perturbed = '+str(totalPerturbed))"
   ]
  },
  {
   "cell_type": "code",
   "execution_count": 24,
   "metadata": {},
   "outputs": [
    {
     "name": "stdout",
     "output_type": "stream",
     "text": [
      "not in neuron activation pattern / all total perturbed: 67.5509337860781 %\n",
      "all total perturbed = 9424\n"
     ]
    }
   ],
   "source": [
    "performAdversarialExamination(test_loader, monitor)"
   ]
  },
  {
   "cell_type": "markdown",
   "metadata": {},
   "source": [
    "### C. Enlarge the region by allowing perturbation"
   ]
  },
  {
   "cell_type": "markdown",
   "metadata": {},
   "source": [
    "One may now enlarge the memorized pattern by allowing 1-bit flip (thus out-of-activation will drop), and run it again "
   ]
  },
  {
   "cell_type": "code",
   "execution_count": 25,
   "metadata": {},
   "outputs": [],
   "source": [
    "monitor.enlargeSetByOneBitFluctuation(-1)"
   ]
  },
  {
   "cell_type": "code",
   "execution_count": 26,
   "metadata": {},
   "outputs": [
    {
     "name": "stdout",
     "output_type": "stream",
     "text": [
      "Accuracy of the network on the 10000 test images: 98.81 %\n",
      "Out-of-activation pattern on the 10000 test images: 2.01 %\n",
      "Out-of-activation pattern & misclassified / out-of-activation pattern : 21.890547263681594 %\n"
     ]
    }
   ],
   "source": [
    "# We don't need to compute gradients (for memory efficiency)\n",
    "with torch.no_grad():\n",
    "    correct = 0\n",
    "    outofActivationPattern = 0\n",
    "    outofActivationPatternAndResultWrong = 0\n",
    "    \n",
    "    total = 0\n",
    "    for images, labels in test_loader:\n",
    "        labels = labels.to(device)\n",
    "        outputs, intermediateValues = net.forwardWithIntermediate(images)\n",
    "        _, predicted = torch.max(outputs.data, 1)\n",
    "        total += labels.size(0)\n",
    "        correct += (predicted == labels).sum().item()\n",
    "                \n",
    "        # Additional processing for runtime monitoring\n",
    "        \n",
    "        predictedNp = predicted.numpy()\n",
    "        \n",
    "        result = (predicted == labels)\n",
    "        res = result.numpy()\n",
    "               \n",
    "        # Iterate over each image in the batch\n",
    "        for exampleIndex in range(intermediateValues.shape[0]):   \n",
    "            if not monitor.isPatternContained(intermediateValues.numpy()[exampleIndex,:], predicted.numpy()[exampleIndex]):\n",
    "                outofActivationPattern = outofActivationPattern +1\n",
    "                if res[exampleIndex] == False :\n",
    "                    outofActivationPatternAndResultWrong = outofActivationPatternAndResultWrong + 1\n",
    "          \n",
    "    print('Accuracy of the network on the 10000 test images: {} %'.format(100 * correct / total))\n",
    "    print('Out-of-activation pattern on the 10000 test images: {} %'.format(100 * outofActivationPattern / total))\n",
    "    print('Out-of-activation pattern & misclassified / out-of-activation pattern : {} %'.format(100 * outofActivationPatternAndResultWrong / (outofActivationPattern)))\n",
    "          "
   ]
  },
  {
   "cell_type": "code",
   "execution_count": 27,
   "metadata": {},
   "outputs": [
    {
     "name": "stdout",
     "output_type": "stream",
     "text": [
      "Out-of-activation pattern & misclassified / mis-classified: 36.97478991596638 %\n"
     ]
    }
   ],
   "source": [
    "print('Out-of-activation pattern & misclassified / mis-classified: {} %'.format(100 * outofActivationPatternAndResultWrong / (total - correct)))\n"
   ]
  },
  {
   "cell_type": "code",
   "execution_count": 28,
   "metadata": {},
   "outputs": [
    {
     "name": "stdout",
     "output_type": "stream",
     "text": [
      "not in neuron activation pattern / all total perturbed: 35.643039049235995 %\n",
      "all total perturbed = 9424\n"
     ]
    }
   ],
   "source": [
    "performAdversarialExamination(test_loader, monitor)"
   ]
  },
  {
   "cell_type": "code",
   "execution_count": 29,
   "metadata": {},
   "outputs": [],
   "source": [
    "monitor.enlargeSetByOneBitFluctuation(-1)"
   ]
  },
  {
   "cell_type": "code",
   "execution_count": 30,
   "metadata": {},
   "outputs": [
    {
     "name": "stdout",
     "output_type": "stream",
     "text": [
      "Accuracy of the network on the 10000 test images: 98.81 %\n",
      "Out-of-activation pattern on the 10000 test images: 0.6 %\n",
      "Out-of-activation pattern & misclassified / out-of-activation pattern : 31.666666666666668 %\n"
     ]
    }
   ],
   "source": [
    "# We don't need to compute gradients (for memory efficiency)\n",
    "with torch.no_grad():\n",
    "    correct = 0\n",
    "    outofActivationPattern = 0\n",
    "    outofActivationPatternAndResultWrong = 0\n",
    "    \n",
    "    total = 0\n",
    "    for images, labels in test_loader:\n",
    "        labels = labels.to(device)\n",
    "        outputs, intermediateValues = net.forwardWithIntermediate(images)\n",
    "        _, predicted = torch.max(outputs.data, 1)\n",
    "        total += labels.size(0)\n",
    "        correct += (predicted == labels).sum().item()\n",
    "                \n",
    "        # Additional processing for runtime monitoring\n",
    "        \n",
    "        predictedNp = predicted.numpy()\n",
    "        \n",
    "        result = (predicted == labels)\n",
    "        res = result.numpy()\n",
    "               \n",
    "        # Iterate over each image in the batch\n",
    "        for exampleIndex in range(intermediateValues.shape[0]):   \n",
    "            if not monitor.isPatternContained(intermediateValues.numpy()[exampleIndex,:], predicted.numpy()[exampleIndex]):\n",
    "                outofActivationPattern = outofActivationPattern +1\n",
    "                if res[exampleIndex] == False :\n",
    "                    outofActivationPatternAndResultWrong = outofActivationPatternAndResultWrong + 1\n",
    "          \n",
    "    print('Accuracy of the network on the 10000 test images: {} %'.format(100 * correct / total))\n",
    "    print('Out-of-activation pattern on the 10000 test images: {} %'.format(100 * outofActivationPattern / total))\n",
    "    print('Out-of-activation pattern & misclassified / out-of-activation pattern : {} %'.format(100 * outofActivationPatternAndResultWrong / (outofActivationPattern)))\n",
    "          "
   ]
  },
  {
   "cell_type": "code",
   "execution_count": 31,
   "metadata": {},
   "outputs": [
    {
     "name": "stdout",
     "output_type": "stream",
     "text": [
      "Out-of-activation pattern & misclassified / mis-classified: 15.966386554621849 %\n"
     ]
    }
   ],
   "source": [
    "print('Out-of-activation pattern & misclassified / mis-classified: {} %'.format(100 * outofActivationPatternAndResultWrong / (total - correct)))\n"
   ]
  },
  {
   "cell_type": "code",
   "execution_count": 32,
   "metadata": {},
   "outputs": [
    {
     "name": "stdout",
     "output_type": "stream",
     "text": [
      "not in neuron activation pattern / all total perturbed: 16.30942275042445 %\n",
      "all total perturbed = 9424\n"
     ]
    }
   ],
   "source": [
    "performAdversarialExamination(test_loader, monitor)"
   ]
  },
  {
   "cell_type": "markdown",
   "metadata": {},
   "source": [
    "### D. Trigger runtime neuron interval pattern monitoring "
   ]
  },
  {
   "cell_type": "markdown",
   "metadata": {},
   "source": [
    "Understand the max value for output of each neuron in the layer under analysis. "
   ]
  },
  {
   "cell_type": "code",
   "execution_count": 33,
   "metadata": {},
   "outputs": [
    {
     "name": "stdout",
     "output_type": "stream",
     "text": [
      "[[ 5.97608852 12.64085484 14.45319462 20.14254951 12.10131168  7.20467997\n",
      "  14.01826    15.72563648  7.57931471 12.96555805 13.73955441  3.02725577\n",
      "  12.84442329 12.07688141  0.          8.21488285 19.87311172  0.\n",
      "  10.62583828  8.91005993 10.26775932 10.06238365 11.35547543 15.94989872\n",
      "  11.28468704 12.3040657  14.48820591 14.17330456 11.95500565  4.97704792\n",
      "  17.16381836  0.         13.73954773 12.10352325  3.9682436  11.53234291\n",
      "  25.40776634 14.69727898  9.12612629  5.32893801]]\n"
     ]
    }
   ],
   "source": [
    "\n",
    "maximumValues = np.zeros([1, sizeOfNeuronsToMonitor])\n",
    "\n",
    "# We don't need to compute gradients (for memory efficiency)\n",
    "with torch.no_grad():\n",
    "    \n",
    "    total = 0\n",
    "    for images, labels in test_loader:\n",
    "        labels = labels.to(device)\n",
    "        outputs, intermediateValues = net.forwardWithIntermediate(images)\n",
    "    \n",
    "    for exampleIndex in range(intermediateValues.shape[0]):   \n",
    "        maximumValues = np.maximum(intermediateValues.numpy()[exampleIndex,:], maximumValues)\n",
    "    \n",
    "    print(maximumValues)"
   ]
  },
  {
   "cell_type": "markdown",
   "metadata": {},
   "source": [
    "Now, prepare two threshold for fine-grained monitor, which is based on further partitioning the >0 domain to 0-33% MaxInTraining, 33%-66% MaxInTraining, and >66% MaxInTraining"
   ]
  },
  {
   "cell_type": "code",
   "execution_count": 34,
   "metadata": {},
   "outputs": [],
   "source": [
    "threshold1 = (maximumValues*1)/3\n",
    "threshold2 = (maximumValues*2)/3"
   ]
  },
  {
   "cell_type": "code",
   "execution_count": 35,
   "metadata": {},
   "outputs": [],
   "source": [
    "runIntervalMonitor = True\n",
    "\n",
    "from nndependability.rv import nipmonitor\n",
    "intervalmonitor = nipmonitor.NIP_Monitor(num_classes, sizeOfNeuronsToMonitor, threshold1, threshold2)"
   ]
  },
  {
   "cell_type": "markdown",
   "metadata": {},
   "source": [
    "Here, we only do it on class 2."
   ]
  },
  {
   "cell_type": "code",
   "execution_count": 36,
   "metadata": {},
   "outputs": [],
   "source": [
    "classToAnalyze = 2\n",
    "# Use below if we want to analyze the complete class\n",
    "# classToAnalyze = -1\n",
    "\n",
    "if runIntervalMonitor: \n",
    "\n",
    "    with torch.no_grad():\n",
    "        for images, labels in train_loader:\n",
    "            labels = labels.to(device)\n",
    "            outputs, intermediateValues = net.forwardWithIntermediate(images)\n",
    "            _, predicted = torch.max(outputs.data, 1)\n",
    "            total += labels.size(0)\n",
    "            correct += (predicted == labels).sum().item()\n",
    "\n",
    "            # Add the batch of neuron activation patterns to the monitor, with only the 0-th class\n",
    "            intervalmonitor.addAllNeuronPatternsToClass(intermediateValues.numpy(), predicted.numpy(), labels.numpy(), classToAnalyze)"
   ]
  },
  {
   "cell_type": "code",
   "execution_count": 37,
   "metadata": {},
   "outputs": [
    {
     "name": "stdout",
     "output_type": "stream",
     "text": [
      "Result on interval-based monitor ([0,1,2,3]:= [<=0, 0-33%, 33%-66%, >66%] in max training value: \n",
      "Accuracy of the network on the 10000 test images: 98.81 %\n"
     ]
    }
   ],
   "source": [
    "\n",
    "if runIntervalMonitor: \n",
    "    \n",
    "    # We don't need to compute gradients (for memory efficiency)\n",
    "    with torch.no_grad():\n",
    "        correct = 0\n",
    "        outofActivationPattern = 0\n",
    "        outofActivationPatternAndResultWrong = 0\n",
    "\n",
    "        total = 0\n",
    "        for images, labels in test_loader:\n",
    "            labels = labels.to(device)\n",
    "            outputs, intermediateValues = net.forwardWithIntermediate(images)\n",
    "            _, predicted = torch.max(outputs.data, 1)\n",
    "            total += labels.size(0)\n",
    "            correct += (predicted == labels).sum().item()\n",
    "\n",
    "            # Additional processing for runtime monitoring\n",
    "\n",
    "            predictedNp = predicted.numpy()\n",
    "\n",
    "            result = (predicted == labels)\n",
    "            res = result.numpy()\n",
    "\n",
    "            # Iterate over each image in the batch\n",
    "            for exampleIndex in range(intermediateValues.shape[0]): \n",
    "                if (classToAnalyze == -1) or (predicted.numpy()[exampleIndex] == classToAnalyze): \n",
    "                    if not intervalmonitor.isPatternContained(intermediateValues.numpy()[exampleIndex,:], predicted.numpy()[exampleIndex]):\n",
    "                        outofActivationPattern = outofActivationPattern +1\n",
    "                        if res[exampleIndex] == False :\n",
    "                            outofActivationPatternAndResultWrong = outofActivationPatternAndResultWrong + 1\n",
    "\n",
    "        print('Result on interval-based monitor ([0,1,2,3]:= [<=0, 0-33%, 33%-66%, >66%] in max training value: ')      \n",
    "        print('Accuracy of the network on the 10000 test images: {} %'.format(100 * correct / total))\n"
   ]
  },
  {
   "cell_type": "code",
   "execution_count": 38,
   "metadata": {},
   "outputs": [
    {
     "name": "stdout",
     "output_type": "stream",
     "text": [
      "Out-of-activation pattern & misclassified / out-of-activation pattern for class 2: 1.5337423312883436 %\n"
     ]
    }
   ],
   "source": [
    "if classToAnalyze == -1:\n",
    "        print('Out-of-activation pattern on the 10000 test images: {} %'.format(100 * outofActivationPattern / total))\n",
    "        print('Out-of-activation pattern & misclassified / out-of-activation pattern : {} %'.format(100 * outofActivationPatternAndResultWrong / (outofActivationPattern)))\n",
    "else:\n",
    "        print('Out-of-activation pattern & misclassified / out-of-activation pattern for class '+str(classToAnalyze)+': {} %'.format(100 * outofActivationPatternAndResultWrong / (outofActivationPattern)))\n"
   ]
  },
  {
   "cell_type": "code",
   "execution_count": 39,
   "metadata": {},
   "outputs": [],
   "source": [
    "# torch.save(net.state_dict(), 'local/model_MNIST_CNN.ckpt')"
   ]
  },
  {
   "cell_type": "markdown",
   "metadata": {},
   "source": [
    "#### Acknowledgements \n",
    "\n",
    "During the development of this jupyter notebook, I got some code from existing github repositories:\n",
    "\n",
    "- PyTorch tutorials as in https://pytorch.org/\n",
    "- https://github.com/Lextal/adv-attacks-pytorch-101/ for implementing iterative FGSM on PyTorch\n"
   ]
  },
  {
   "cell_type": "code",
   "execution_count": null,
   "metadata": {},
   "outputs": [],
   "source": []
  }
 ],
 "metadata": {
  "kernelspec": {
   "display_name": "Python 3",
   "language": "python",
   "name": "python3"
  },
  "language_info": {
   "codemirror_mode": {
    "name": "ipython",
    "version": 3
   },
   "file_extension": ".py",
   "mimetype": "text/x-python",
   "name": "python",
   "nbconvert_exporter": "python",
   "pygments_lexer": "ipython3",
   "version": "3.6.6rc1"
  }
 },
 "nbformat": 4,
 "nbformat_minor": 2
}
